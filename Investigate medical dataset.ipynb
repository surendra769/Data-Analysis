{
 "cells": [
  {
   "cell_type": "markdown",
   "id": "d8babab5",
   "metadata": {},
   "source": [
    "# Project - Investigate medical dataset "
   ]
  },
  {
   "cell_type": "markdown",
   "id": "551beceb",
   "metadata": {},
   "source": [
    "**This dataset collect information from 100k medical appointment in Brazil and focused on the question whether or not the patients show up for there appointment. A number of characterictics about the patient are included in each row** "
   ]
  },
  {
   "cell_type": "markdown",
   "id": "3d3f0e86",
   "metadata": {},
   "source": [
    "### Import Libraries"
   ]
  },
  {
   "cell_type": "code",
   "execution_count": 1,
   "id": "1936b14a",
   "metadata": {},
   "outputs": [],
   "source": [
    "import numpy as np\n",
    "import pandas as pd\n",
    "import matplotlib as plt\n",
    "import matplotlib\n",
    "import seaborn as sns\n",
    "import collections\n",
    "%matplotlib inline\n"
   ]
  },
  {
   "cell_type": "markdown",
   "id": "41c7ec16",
   "metadata": {},
   "source": [
    "### Analyzing the dataset"
   ]
  },
  {
   "cell_type": "code",
   "execution_count": 2,
   "id": "260df353",
   "metadata": {},
   "outputs": [],
   "source": [
    "df = pd.read_csv('https://raw.githubusercontent.com/jilkothari/Udacity-DataAnalystNanodegree/master/Project2%20-%20Medical_Appointments-No_Show/noshowappointments-kagglev2-may-2016.csv')"
   ]
  },
  {
   "cell_type": "code",
   "execution_count": 3,
   "id": "f6b38805",
   "metadata": {},
   "outputs": [
    {
     "data": {
      "text/html": [
       "<div>\n",
       "<style scoped>\n",
       "    .dataframe tbody tr th:only-of-type {\n",
       "        vertical-align: middle;\n",
       "    }\n",
       "\n",
       "    .dataframe tbody tr th {\n",
       "        vertical-align: top;\n",
       "    }\n",
       "\n",
       "    .dataframe thead th {\n",
       "        text-align: right;\n",
       "    }\n",
       "</style>\n",
       "<table border=\"1\" class=\"dataframe\">\n",
       "  <thead>\n",
       "    <tr style=\"text-align: right;\">\n",
       "      <th></th>\n",
       "      <th>PatientId</th>\n",
       "      <th>AppointmentID</th>\n",
       "      <th>Gender</th>\n",
       "      <th>ScheduledDay</th>\n",
       "      <th>AppointmentDay</th>\n",
       "      <th>Age</th>\n",
       "      <th>Neighbourhood</th>\n",
       "      <th>Scholarship</th>\n",
       "      <th>Hipertension</th>\n",
       "      <th>Diabetes</th>\n",
       "      <th>Alcoholism</th>\n",
       "      <th>Handcap</th>\n",
       "      <th>SMS_received</th>\n",
       "      <th>No-show</th>\n",
       "    </tr>\n",
       "  </thead>\n",
       "  <tbody>\n",
       "    <tr>\n",
       "      <th>0</th>\n",
       "      <td>2.987250e+13</td>\n",
       "      <td>5642903</td>\n",
       "      <td>F</td>\n",
       "      <td>2016-04-29T18:38:08Z</td>\n",
       "      <td>2016-04-29T00:00:00Z</td>\n",
       "      <td>62</td>\n",
       "      <td>JARDIM DA PENHA</td>\n",
       "      <td>0</td>\n",
       "      <td>1</td>\n",
       "      <td>0</td>\n",
       "      <td>0</td>\n",
       "      <td>0</td>\n",
       "      <td>0</td>\n",
       "      <td>No</td>\n",
       "    </tr>\n",
       "    <tr>\n",
       "      <th>1</th>\n",
       "      <td>5.589978e+14</td>\n",
       "      <td>5642503</td>\n",
       "      <td>M</td>\n",
       "      <td>2016-04-29T16:08:27Z</td>\n",
       "      <td>2016-04-29T00:00:00Z</td>\n",
       "      <td>56</td>\n",
       "      <td>JARDIM DA PENHA</td>\n",
       "      <td>0</td>\n",
       "      <td>0</td>\n",
       "      <td>0</td>\n",
       "      <td>0</td>\n",
       "      <td>0</td>\n",
       "      <td>0</td>\n",
       "      <td>No</td>\n",
       "    </tr>\n",
       "    <tr>\n",
       "      <th>2</th>\n",
       "      <td>4.262962e+12</td>\n",
       "      <td>5642549</td>\n",
       "      <td>F</td>\n",
       "      <td>2016-04-29T16:19:04Z</td>\n",
       "      <td>2016-04-29T00:00:00Z</td>\n",
       "      <td>62</td>\n",
       "      <td>MATA DA PRAIA</td>\n",
       "      <td>0</td>\n",
       "      <td>0</td>\n",
       "      <td>0</td>\n",
       "      <td>0</td>\n",
       "      <td>0</td>\n",
       "      <td>0</td>\n",
       "      <td>No</td>\n",
       "    </tr>\n",
       "    <tr>\n",
       "      <th>3</th>\n",
       "      <td>8.679512e+11</td>\n",
       "      <td>5642828</td>\n",
       "      <td>F</td>\n",
       "      <td>2016-04-29T17:29:31Z</td>\n",
       "      <td>2016-04-29T00:00:00Z</td>\n",
       "      <td>8</td>\n",
       "      <td>PONTAL DE CAMBURI</td>\n",
       "      <td>0</td>\n",
       "      <td>0</td>\n",
       "      <td>0</td>\n",
       "      <td>0</td>\n",
       "      <td>0</td>\n",
       "      <td>0</td>\n",
       "      <td>No</td>\n",
       "    </tr>\n",
       "    <tr>\n",
       "      <th>4</th>\n",
       "      <td>8.841186e+12</td>\n",
       "      <td>5642494</td>\n",
       "      <td>F</td>\n",
       "      <td>2016-04-29T16:07:23Z</td>\n",
       "      <td>2016-04-29T00:00:00Z</td>\n",
       "      <td>56</td>\n",
       "      <td>JARDIM DA PENHA</td>\n",
       "      <td>0</td>\n",
       "      <td>1</td>\n",
       "      <td>1</td>\n",
       "      <td>0</td>\n",
       "      <td>0</td>\n",
       "      <td>0</td>\n",
       "      <td>No</td>\n",
       "    </tr>\n",
       "  </tbody>\n",
       "</table>\n",
       "</div>"
      ],
      "text/plain": [
       "      PatientId  AppointmentID Gender          ScheduledDay  \\\n",
       "0  2.987250e+13        5642903      F  2016-04-29T18:38:08Z   \n",
       "1  5.589978e+14        5642503      M  2016-04-29T16:08:27Z   \n",
       "2  4.262962e+12        5642549      F  2016-04-29T16:19:04Z   \n",
       "3  8.679512e+11        5642828      F  2016-04-29T17:29:31Z   \n",
       "4  8.841186e+12        5642494      F  2016-04-29T16:07:23Z   \n",
       "\n",
       "         AppointmentDay  Age      Neighbourhood  Scholarship  Hipertension  \\\n",
       "0  2016-04-29T00:00:00Z   62    JARDIM DA PENHA            0             1   \n",
       "1  2016-04-29T00:00:00Z   56    JARDIM DA PENHA            0             0   \n",
       "2  2016-04-29T00:00:00Z   62      MATA DA PRAIA            0             0   \n",
       "3  2016-04-29T00:00:00Z    8  PONTAL DE CAMBURI            0             0   \n",
       "4  2016-04-29T00:00:00Z   56    JARDIM DA PENHA            0             1   \n",
       "\n",
       "   Diabetes  Alcoholism  Handcap  SMS_received No-show  \n",
       "0         0           0        0             0      No  \n",
       "1         0           0        0             0      No  \n",
       "2         0           0        0             0      No  \n",
       "3         0           0        0             0      No  \n",
       "4         1           0        0             0      No  "
      ]
     },
     "execution_count": 3,
     "metadata": {},
     "output_type": "execute_result"
    }
   ],
   "source": [
    "df.head()"
   ]
  },
  {
   "cell_type": "code",
   "execution_count": 4,
   "id": "539c2998",
   "metadata": {},
   "outputs": [
    {
     "data": {
      "text/plain": [
       "(110527, 14)"
      ]
     },
     "execution_count": 4,
     "metadata": {},
     "output_type": "execute_result"
    }
   ],
   "source": [
    "df.shape"
   ]
  },
  {
   "cell_type": "markdown",
   "id": "b7959822",
   "metadata": {},
   "source": [
    "There are 14 variable and 110527 datapoints"
   ]
  },
  {
   "cell_type": "markdown",
   "id": "4308d8af",
   "metadata": {},
   "source": [
    "**checking if there any duplicate in dataset**"
   ]
  },
  {
   "cell_type": "code",
   "execution_count": 5,
   "id": "113fac81",
   "metadata": {},
   "outputs": [
    {
     "data": {
      "text/plain": [
       "0"
      ]
     },
     "execution_count": 5,
     "metadata": {},
     "output_type": "execute_result"
    }
   ],
   "source": [
    "df.duplicated().sum()"
   ]
  },
  {
   "cell_type": "markdown",
   "id": "95136aa8",
   "metadata": {},
   "source": [
    "Inference drawn:  \n",
    " Dataset don't have duplicate value"
   ]
  },
  {
   "cell_type": "markdown",
   "id": "8776e3af",
   "metadata": {},
   "source": [
    "**checking if there any null/missing value**"
   ]
  },
  {
   "cell_type": "code",
   "execution_count": 6,
   "id": "b561ec38",
   "metadata": {},
   "outputs": [
    {
     "data": {
      "text/plain": [
       "PatientId         0\n",
       "AppointmentID     0\n",
       "Gender            0\n",
       "ScheduledDay      0\n",
       "AppointmentDay    0\n",
       "Age               0\n",
       "Neighbourhood     0\n",
       "Scholarship       0\n",
       "Hipertension      0\n",
       "Diabetes          0\n",
       "Alcoholism        0\n",
       "Handcap           0\n",
       "SMS_received      0\n",
       "No-show           0\n",
       "dtype: int64"
      ]
     },
     "execution_count": 6,
     "metadata": {},
     "output_type": "execute_result"
    }
   ],
   "source": [
    "df.isnull().sum()"
   ]
  },
  {
   "cell_type": "markdown",
   "id": "47c91210",
   "metadata": {},
   "source": [
    "Inferernce drawn:  \n",
    "There is no null value in the dataset."
   ]
  },
  {
   "cell_type": "markdown",
   "id": "cf50b1f8",
   "metadata": {},
   "source": [
    "**Displaying the columns in the dataset**"
   ]
  },
  {
   "cell_type": "code",
   "execution_count": 7,
   "id": "5780fdf7",
   "metadata": {},
   "outputs": [
    {
     "data": {
      "text/plain": [
       "Index(['PatientId', 'AppointmentID', 'Gender', 'ScheduledDay',\n",
       "       'AppointmentDay', 'Age', 'Neighbourhood', 'Scholarship', 'Hipertension',\n",
       "       'Diabetes', 'Alcoholism', 'Handcap', 'SMS_received', 'No-show'],\n",
       "      dtype='object')"
      ]
     },
     "execution_count": 7,
     "metadata": {},
     "output_type": "execute_result"
    }
   ],
   "source": [
    "df.columns"
   ]
  },
  {
   "cell_type": "markdown",
   "id": "2392f904",
   "metadata": {},
   "source": [
    "Inference drawn:  \n",
    "some column name have worng spelling and are in wrong format so they  will be cleaned accordingly"
   ]
  },
  {
   "cell_type": "code",
   "execution_count": 8,
   "id": "61ca5333",
   "metadata": {},
   "outputs": [],
   "source": [
    "df.rename(columns = {'Hipertension': 'Hypertension',\n",
    "                     'AppointmentID' :'Appointment_id',\n",
    "                     'ScheduledDay': 'Scheduled_day',\n",
    "                      'AppointmentDay':'Appointment_day',\n",
    "                      'Handcap': 'Handicap',\n",
    "                       'No-show': 'No_show',\n",
    "                        'PatientId': 'Patient_id'}, inplace  = True)"
   ]
  },
  {
   "cell_type": "markdown",
   "id": "f94b1d96",
   "metadata": {},
   "source": [
    "**Checking if datatype of variable are in correct format**"
   ]
  },
  {
   "cell_type": "code",
   "execution_count": 9,
   "id": "b3f4fb6e",
   "metadata": {},
   "outputs": [
    {
     "data": {
      "text/plain": [
       "Patient_id         float64\n",
       "Appointment_id       int64\n",
       "Gender              object\n",
       "Scheduled_day       object\n",
       "Appointment_day     object\n",
       "Age                  int64\n",
       "Neighbourhood       object\n",
       "Scholarship          int64\n",
       "Hypertension         int64\n",
       "Diabetes             int64\n",
       "Alcoholism           int64\n",
       "Handicap             int64\n",
       "SMS_received         int64\n",
       "No_show             object\n",
       "dtype: object"
      ]
     },
     "execution_count": 9,
     "metadata": {},
     "output_type": "execute_result"
    }
   ],
   "source": [
    "df.dtypes"
   ]
  },
  {
   "cell_type": "markdown",
   "id": "85287f94",
   "metadata": {},
   "source": [
    "Inference drawn:  \n",
    "ScheduledDay and AppointmentDay have datatype of object but they should in datetime format"
   ]
  },
  {
   "cell_type": "code",
   "execution_count": 10,
   "id": "70240285",
   "metadata": {},
   "outputs": [
    {
     "data": {
      "text/plain": [
       "array([2.98724998e+13, 5.58997777e+14, 4.26296230e+12, ...,\n",
       "       7.26331493e+13, 9.96997666e+14, 1.55766317e+13])"
      ]
     },
     "execution_count": 10,
     "metadata": {},
     "output_type": "execute_result"
    }
   ],
   "source": [
    "df.Patient_id.unique()"
   ]
  },
  {
   "cell_type": "markdown",
   "id": "4128d394",
   "metadata": {},
   "source": [
    "Inference drawn:  \n",
    "The data type of id should in int not in float."
   ]
  },
  {
   "cell_type": "code",
   "execution_count": 11,
   "id": "2c88ebe8",
   "metadata": {},
   "outputs": [],
   "source": [
    "df.Patient_id = df.Patient_id.astype('int64')"
   ]
  },
  {
   "cell_type": "code",
   "execution_count": 12,
   "id": "bfc8aecf",
   "metadata": {},
   "outputs": [
    {
     "data": {
      "text/plain": [
       "array(['2016-04-29T18:38:08Z', '2016-04-29T16:08:27Z',\n",
       "       '2016-04-29T16:19:04Z', ..., '2016-04-27T16:03:52Z',\n",
       "       '2016-04-27T15:09:23Z', '2016-04-27T13:30:56Z'], dtype=object)"
      ]
     },
     "execution_count": 12,
     "metadata": {},
     "output_type": "execute_result"
    }
   ],
   "source": [
    "df.Scheduled_day.unique()"
   ]
  },
  {
   "cell_type": "code",
   "execution_count": 13,
   "id": "63f49fc3",
   "metadata": {},
   "outputs": [
    {
     "data": {
      "text/plain": [
       "array(['2016-04-29T00:00:00Z', '2016-05-03T00:00:00Z',\n",
       "       '2016-05-10T00:00:00Z', '2016-05-17T00:00:00Z',\n",
       "       '2016-05-24T00:00:00Z', '2016-05-31T00:00:00Z',\n",
       "       '2016-05-02T00:00:00Z', '2016-05-30T00:00:00Z',\n",
       "       '2016-05-16T00:00:00Z', '2016-05-04T00:00:00Z',\n",
       "       '2016-05-19T00:00:00Z', '2016-05-12T00:00:00Z',\n",
       "       '2016-05-06T00:00:00Z', '2016-05-20T00:00:00Z',\n",
       "       '2016-05-05T00:00:00Z', '2016-05-13T00:00:00Z',\n",
       "       '2016-05-09T00:00:00Z', '2016-05-25T00:00:00Z',\n",
       "       '2016-05-11T00:00:00Z', '2016-05-18T00:00:00Z',\n",
       "       '2016-05-14T00:00:00Z', '2016-06-02T00:00:00Z',\n",
       "       '2016-06-03T00:00:00Z', '2016-06-06T00:00:00Z',\n",
       "       '2016-06-07T00:00:00Z', '2016-06-01T00:00:00Z',\n",
       "       '2016-06-08T00:00:00Z'], dtype=object)"
      ]
     },
     "execution_count": 13,
     "metadata": {},
     "output_type": "execute_result"
    }
   ],
   "source": [
    "df.Appointment_day.unique()"
   ]
  },
  {
   "cell_type": "markdown",
   "id": "d0a0e86d",
   "metadata": {},
   "source": [
    "Inference drawn:  \n",
    "convert datatype from  object to datetime."
   ]
  },
  {
   "cell_type": "code",
   "execution_count": 14,
   "id": "2c0fb7c4",
   "metadata": {},
   "outputs": [],
   "source": [
    "df.Scheduled_day = df.Scheduled_day.apply(np.datetime64)"
   ]
  },
  {
   "cell_type": "code",
   "execution_count": 15,
   "id": "b49463e7",
   "metadata": {},
   "outputs": [],
   "source": [
    "df.Appointment_day = df.Scheduled_day.apply(np.datetime64)"
   ]
  },
  {
   "cell_type": "code",
   "execution_count": 16,
   "id": "7f5be32f",
   "metadata": {},
   "outputs": [
    {
     "data": {
      "text/plain": [
       "array([ 62,  56,   8,  76,  23,  39,  21,  19,  30,  29,  22,  28,  54,\n",
       "        15,  50,  40,  46,   4,  13,  65,  45,  51,  32,  12,  61,  38,\n",
       "        79,  18,  63,  64,  85,  59,  55,  71,  49,  78,  31,  58,  27,\n",
       "         6,   2,  11,   7,   0,   3,   1,  69,  68,  60,  67,  36,  10,\n",
       "        35,  20,  26,  34,  33,  16,  42,   5,  47,  17,  41,  44,  37,\n",
       "        24,  66,  77,  81,  70,  53,  75,  73,  52,  74,  43,  89,  57,\n",
       "        14,   9,  48,  83,  72,  25,  80,  87,  88,  84,  82,  90,  94,\n",
       "        86,  91,  98,  92,  96,  93,  95,  97, 102, 115, 100,  99,  -1],\n",
       "      dtype=int64)"
      ]
     },
     "execution_count": 16,
     "metadata": {},
     "output_type": "execute_result"
    }
   ],
   "source": [
    "df.Age.unique()"
   ]
  },
  {
   "cell_type": "markdown",
   "id": "a03215f7",
   "metadata": {},
   "source": [
    "Inference drawn:  \n",
    "Some value are in negative which is highly unlikely so we have to filter aut the outliers."
   ]
  },
  {
   "cell_type": "code",
   "execution_count": 17,
   "id": "22c89713",
   "metadata": {},
   "outputs": [],
   "source": [
    "df.Age = df[df.Age >= 0]"
   ]
  },
  {
   "cell_type": "markdown",
   "id": "36de2223",
   "metadata": {},
   "source": [
    "**Adding new column display the waiting period for a patient.**"
   ]
  },
  {
   "cell_type": "code",
   "execution_count": 18,
   "id": "390e741b",
   "metadata": {},
   "outputs": [],
   "source": [
    "df['Wait'] = (df.Appointment_day.dt.date - df.Scheduled_day.dt.date).dt.days\n",
    "df= df[(df.Wait>=0)]"
   ]
  },
  {
   "cell_type": "code",
   "execution_count": 19,
   "id": "45f883ad",
   "metadata": {},
   "outputs": [],
   "source": [
    "df['appointment_day'] = df.Scheduled_day.dt.day_name()"
   ]
  },
  {
   "cell_type": "code",
   "execution_count": 20,
   "id": "032bd13c",
   "metadata": {},
   "outputs": [
    {
     "data": {
      "text/plain": [
       "Counter({'Friday': 18915,\n",
       "         'Wednesday': 24262,\n",
       "         'Tuesday': 26168,\n",
       "         'Thursday': 18073,\n",
       "         'Monday': 23085,\n",
       "         'Saturday': 24})"
      ]
     },
     "execution_count": 20,
     "metadata": {},
     "output_type": "execute_result"
    }
   ],
   "source": [
    "collections.Counter(df.appointment_day)"
   ]
  },
  {
   "cell_type": "code",
   "execution_count": 21,
   "id": "73b9a11d",
   "metadata": {},
   "outputs": [
    {
     "data": {
      "text/html": [
       "<div>\n",
       "<style scoped>\n",
       "    .dataframe tbody tr th:only-of-type {\n",
       "        vertical-align: middle;\n",
       "    }\n",
       "\n",
       "    .dataframe tbody tr th {\n",
       "        vertical-align: top;\n",
       "    }\n",
       "\n",
       "    .dataframe thead th {\n",
       "        text-align: right;\n",
       "    }\n",
       "</style>\n",
       "<table border=\"1\" class=\"dataframe\">\n",
       "  <thead>\n",
       "    <tr style=\"text-align: right;\">\n",
       "      <th></th>\n",
       "      <th>Patient_id</th>\n",
       "      <th>Appointment_id</th>\n",
       "      <th>Gender</th>\n",
       "      <th>Scheduled_day</th>\n",
       "      <th>Appointment_day</th>\n",
       "      <th>Age</th>\n",
       "      <th>Neighbourhood</th>\n",
       "      <th>Scholarship</th>\n",
       "      <th>Hypertension</th>\n",
       "      <th>Diabetes</th>\n",
       "      <th>Alcoholism</th>\n",
       "      <th>Handicap</th>\n",
       "      <th>SMS_received</th>\n",
       "      <th>No_show</th>\n",
       "      <th>Wait</th>\n",
       "      <th>appointment_day</th>\n",
       "    </tr>\n",
       "  </thead>\n",
       "  <tbody>\n",
       "    <tr>\n",
       "      <th>0</th>\n",
       "      <td>29872499824296</td>\n",
       "      <td>5642903</td>\n",
       "      <td>F</td>\n",
       "      <td>2016-04-29 18:38:08</td>\n",
       "      <td>2016-04-29 18:38:08</td>\n",
       "      <td>29872499824296.0</td>\n",
       "      <td>JARDIM DA PENHA</td>\n",
       "      <td>0</td>\n",
       "      <td>1</td>\n",
       "      <td>0</td>\n",
       "      <td>0</td>\n",
       "      <td>0</td>\n",
       "      <td>0</td>\n",
       "      <td>No</td>\n",
       "      <td>0</td>\n",
       "      <td>Friday</td>\n",
       "    </tr>\n",
       "    <tr>\n",
       "      <th>1</th>\n",
       "      <td>558997776694438</td>\n",
       "      <td>5642503</td>\n",
       "      <td>M</td>\n",
       "      <td>2016-04-29 16:08:27</td>\n",
       "      <td>2016-04-29 16:08:27</td>\n",
       "      <td>558997776694438.0</td>\n",
       "      <td>JARDIM DA PENHA</td>\n",
       "      <td>0</td>\n",
       "      <td>0</td>\n",
       "      <td>0</td>\n",
       "      <td>0</td>\n",
       "      <td>0</td>\n",
       "      <td>0</td>\n",
       "      <td>No</td>\n",
       "      <td>0</td>\n",
       "      <td>Friday</td>\n",
       "    </tr>\n",
       "    <tr>\n",
       "      <th>2</th>\n",
       "      <td>4262962299951</td>\n",
       "      <td>5642549</td>\n",
       "      <td>F</td>\n",
       "      <td>2016-04-29 16:19:04</td>\n",
       "      <td>2016-04-29 16:19:04</td>\n",
       "      <td>4262962299951.0</td>\n",
       "      <td>MATA DA PRAIA</td>\n",
       "      <td>0</td>\n",
       "      <td>0</td>\n",
       "      <td>0</td>\n",
       "      <td>0</td>\n",
       "      <td>0</td>\n",
       "      <td>0</td>\n",
       "      <td>No</td>\n",
       "      <td>0</td>\n",
       "      <td>Friday</td>\n",
       "    </tr>\n",
       "    <tr>\n",
       "      <th>3</th>\n",
       "      <td>867951213174</td>\n",
       "      <td>5642828</td>\n",
       "      <td>F</td>\n",
       "      <td>2016-04-29 17:29:31</td>\n",
       "      <td>2016-04-29 17:29:31</td>\n",
       "      <td>867951213174.0</td>\n",
       "      <td>PONTAL DE CAMBURI</td>\n",
       "      <td>0</td>\n",
       "      <td>0</td>\n",
       "      <td>0</td>\n",
       "      <td>0</td>\n",
       "      <td>0</td>\n",
       "      <td>0</td>\n",
       "      <td>No</td>\n",
       "      <td>0</td>\n",
       "      <td>Friday</td>\n",
       "    </tr>\n",
       "    <tr>\n",
       "      <th>4</th>\n",
       "      <td>8841186448183</td>\n",
       "      <td>5642494</td>\n",
       "      <td>F</td>\n",
       "      <td>2016-04-29 16:07:23</td>\n",
       "      <td>2016-04-29 16:07:23</td>\n",
       "      <td>8841186448183.0</td>\n",
       "      <td>JARDIM DA PENHA</td>\n",
       "      <td>0</td>\n",
       "      <td>1</td>\n",
       "      <td>1</td>\n",
       "      <td>0</td>\n",
       "      <td>0</td>\n",
       "      <td>0</td>\n",
       "      <td>No</td>\n",
       "      <td>0</td>\n",
       "      <td>Friday</td>\n",
       "    </tr>\n",
       "    <tr>\n",
       "      <th>...</th>\n",
       "      <td>...</td>\n",
       "      <td>...</td>\n",
       "      <td>...</td>\n",
       "      <td>...</td>\n",
       "      <td>...</td>\n",
       "      <td>...</td>\n",
       "      <td>...</td>\n",
       "      <td>...</td>\n",
       "      <td>...</td>\n",
       "      <td>...</td>\n",
       "      <td>...</td>\n",
       "      <td>...</td>\n",
       "      <td>...</td>\n",
       "      <td>...</td>\n",
       "      <td>...</td>\n",
       "      <td>...</td>\n",
       "    </tr>\n",
       "    <tr>\n",
       "      <th>110522</th>\n",
       "      <td>2572134369293</td>\n",
       "      <td>5651768</td>\n",
       "      <td>F</td>\n",
       "      <td>2016-05-03 09:15:35</td>\n",
       "      <td>2016-05-03 09:15:35</td>\n",
       "      <td>2572134369293.0</td>\n",
       "      <td>MARIA ORTIZ</td>\n",
       "      <td>0</td>\n",
       "      <td>0</td>\n",
       "      <td>0</td>\n",
       "      <td>0</td>\n",
       "      <td>0</td>\n",
       "      <td>1</td>\n",
       "      <td>No</td>\n",
       "      <td>0</td>\n",
       "      <td>Tuesday</td>\n",
       "    </tr>\n",
       "    <tr>\n",
       "      <th>110523</th>\n",
       "      <td>3596266328735</td>\n",
       "      <td>5650093</td>\n",
       "      <td>F</td>\n",
       "      <td>2016-05-03 07:27:33</td>\n",
       "      <td>2016-05-03 07:27:33</td>\n",
       "      <td>3596266328735.0</td>\n",
       "      <td>MARIA ORTIZ</td>\n",
       "      <td>0</td>\n",
       "      <td>0</td>\n",
       "      <td>0</td>\n",
       "      <td>0</td>\n",
       "      <td>0</td>\n",
       "      <td>1</td>\n",
       "      <td>No</td>\n",
       "      <td>0</td>\n",
       "      <td>Tuesday</td>\n",
       "    </tr>\n",
       "    <tr>\n",
       "      <th>110524</th>\n",
       "      <td>15576631729893</td>\n",
       "      <td>5630692</td>\n",
       "      <td>F</td>\n",
       "      <td>2016-04-27 16:03:52</td>\n",
       "      <td>2016-04-27 16:03:52</td>\n",
       "      <td>15576631729893.0</td>\n",
       "      <td>MARIA ORTIZ</td>\n",
       "      <td>0</td>\n",
       "      <td>0</td>\n",
       "      <td>0</td>\n",
       "      <td>0</td>\n",
       "      <td>0</td>\n",
       "      <td>1</td>\n",
       "      <td>No</td>\n",
       "      <td>0</td>\n",
       "      <td>Wednesday</td>\n",
       "    </tr>\n",
       "    <tr>\n",
       "      <th>110525</th>\n",
       "      <td>92134931435557</td>\n",
       "      <td>5630323</td>\n",
       "      <td>F</td>\n",
       "      <td>2016-04-27 15:09:23</td>\n",
       "      <td>2016-04-27 15:09:23</td>\n",
       "      <td>92134931435557.0</td>\n",
       "      <td>MARIA ORTIZ</td>\n",
       "      <td>0</td>\n",
       "      <td>0</td>\n",
       "      <td>0</td>\n",
       "      <td>0</td>\n",
       "      <td>0</td>\n",
       "      <td>1</td>\n",
       "      <td>No</td>\n",
       "      <td>0</td>\n",
       "      <td>Wednesday</td>\n",
       "    </tr>\n",
       "    <tr>\n",
       "      <th>110526</th>\n",
       "      <td>377511518121127</td>\n",
       "      <td>5629448</td>\n",
       "      <td>F</td>\n",
       "      <td>2016-04-27 13:30:56</td>\n",
       "      <td>2016-04-27 13:30:56</td>\n",
       "      <td>377511518121127.0</td>\n",
       "      <td>MARIA ORTIZ</td>\n",
       "      <td>0</td>\n",
       "      <td>0</td>\n",
       "      <td>0</td>\n",
       "      <td>0</td>\n",
       "      <td>0</td>\n",
       "      <td>1</td>\n",
       "      <td>No</td>\n",
       "      <td>0</td>\n",
       "      <td>Wednesday</td>\n",
       "    </tr>\n",
       "  </tbody>\n",
       "</table>\n",
       "<p>110527 rows × 16 columns</p>\n",
       "</div>"
      ],
      "text/plain": [
       "             Patient_id  Appointment_id Gender       Scheduled_day  \\\n",
       "0        29872499824296         5642903      F 2016-04-29 18:38:08   \n",
       "1       558997776694438         5642503      M 2016-04-29 16:08:27   \n",
       "2         4262962299951         5642549      F 2016-04-29 16:19:04   \n",
       "3          867951213174         5642828      F 2016-04-29 17:29:31   \n",
       "4         8841186448183         5642494      F 2016-04-29 16:07:23   \n",
       "...                 ...             ...    ...                 ...   \n",
       "110522    2572134369293         5651768      F 2016-05-03 09:15:35   \n",
       "110523    3596266328735         5650093      F 2016-05-03 07:27:33   \n",
       "110524   15576631729893         5630692      F 2016-04-27 16:03:52   \n",
       "110525   92134931435557         5630323      F 2016-04-27 15:09:23   \n",
       "110526  377511518121127         5629448      F 2016-04-27 13:30:56   \n",
       "\n",
       "           Appointment_day                Age      Neighbourhood  Scholarship  \\\n",
       "0      2016-04-29 18:38:08   29872499824296.0    JARDIM DA PENHA            0   \n",
       "1      2016-04-29 16:08:27  558997776694438.0    JARDIM DA PENHA            0   \n",
       "2      2016-04-29 16:19:04    4262962299951.0      MATA DA PRAIA            0   \n",
       "3      2016-04-29 17:29:31     867951213174.0  PONTAL DE CAMBURI            0   \n",
       "4      2016-04-29 16:07:23    8841186448183.0    JARDIM DA PENHA            0   \n",
       "...                    ...                ...                ...          ...   \n",
       "110522 2016-05-03 09:15:35    2572134369293.0        MARIA ORTIZ            0   \n",
       "110523 2016-05-03 07:27:33    3596266328735.0        MARIA ORTIZ            0   \n",
       "110524 2016-04-27 16:03:52   15576631729893.0        MARIA ORTIZ            0   \n",
       "110525 2016-04-27 15:09:23   92134931435557.0        MARIA ORTIZ            0   \n",
       "110526 2016-04-27 13:30:56  377511518121127.0        MARIA ORTIZ            0   \n",
       "\n",
       "        Hypertension  Diabetes  Alcoholism  Handicap  SMS_received No_show  \\\n",
       "0                  1         0           0         0             0      No   \n",
       "1                  0         0           0         0             0      No   \n",
       "2                  0         0           0         0             0      No   \n",
       "3                  0         0           0         0             0      No   \n",
       "4                  1         1           0         0             0      No   \n",
       "...              ...       ...         ...       ...           ...     ...   \n",
       "110522             0         0           0         0             1      No   \n",
       "110523             0         0           0         0             1      No   \n",
       "110524             0         0           0         0             1      No   \n",
       "110525             0         0           0         0             1      No   \n",
       "110526             0         0           0         0             1      No   \n",
       "\n",
       "        Wait appointment_day  \n",
       "0          0          Friday  \n",
       "1          0          Friday  \n",
       "2          0          Friday  \n",
       "3          0          Friday  \n",
       "4          0          Friday  \n",
       "...      ...             ...  \n",
       "110522     0         Tuesday  \n",
       "110523     0         Tuesday  \n",
       "110524     0       Wednesday  \n",
       "110525     0       Wednesday  \n",
       "110526     0       Wednesday  \n",
       "\n",
       "[110527 rows x 16 columns]"
      ]
     },
     "execution_count": 21,
     "metadata": {},
     "output_type": "execute_result"
    }
   ],
   "source": [
    "df"
   ]
  },
  {
   "cell_type": "markdown",
   "id": "4cf328ac",
   "metadata": {},
   "source": [
    "### Observations"
   ]
  },
  {
   "cell_type": "code",
   "execution_count": 22,
   "id": "18d12258",
   "metadata": {},
   "outputs": [
    {
     "data": {
      "image/png": "[encoded data removed]",
      "text/plain": [
       "<Figure size 1440x1440 with 12 Axes>"
      ]
     },
     "metadata": {
      "needs_background": "light"
     },
     "output_type": "display_data"
    }
   ],
   "source": [
    "df.hist(figsize = (20,20), color = 'green');"
   ]
  },
  {
   "cell_type": "markdown",
   "id": "17d0fbff",
   "metadata": {},
   "source": [
    "Observation made from the histogram are: "
   ]
  },
  {
   "cell_type": "markdown",
   "id": "691e1627",
   "metadata": {},
   "source": [
    "1) Majority of patients are not alcoholism. only a very small amount of patient are alcoholism.  \n",
    "2) Majority of patients are not diabetes. only a very small amount of patient are diabetes.  \n",
    "3) Majority of patients are not handicapped. Only a very small amount of patients have some disability\n",
    "4) Around 75% of patients do not have Hypertension while 25% of patients do have Hypertension\n",
    "5) Almost 7k patients did receive a text message whereas almost 3.9k patients did not receive a text message\n",
    "6) Majority of patients do not have to wait for more than 20 days with a small amount of patients having to wait upto 75 days"
   ]
  },
  {
   "cell_type": "markdown",
   "id": "a1e62f94",
   "metadata": {},
   "source": [
    "**Percentage of patients missed the appointment?**"
   ]
  },
  {
   "cell_type": "code",
   "execution_count": 23,
   "id": "8cd77bb5",
   "metadata": {},
   "outputs": [],
   "source": [
    "x = (df[['No_show']] == 'Yes').sum()\n",
    "y = (df[['No_show']] == 'No').sum()"
   ]
  },
  {
   "cell_type": "code",
   "execution_count": 24,
   "id": "0aa5f502",
   "metadata": {},
   "outputs": [
    {
     "data": {
      "text/plain": [
       "No_show    20.193256\n",
       "dtype: float64"
      ]
     },
     "execution_count": 24,
     "metadata": {},
     "output_type": "execute_result"
    }
   ],
   "source": [
    "percentage = x/(x+y)*100\n",
    "percentage"
   ]
  },
  {
   "cell_type": "markdown",
   "id": "30075353",
   "metadata": {},
   "source": [
    "Inference drawn:  \n",
    "17% of patient miss the appintment,"
   ]
  },
  {
   "cell_type": "markdown",
   "id": "89a0131d",
   "metadata": {},
   "source": [
    "**Did gender play any role in the possibility of a patient missing the appointment?**"
   ]
  },
  {
   "cell_type": "code",
   "execution_count": 48,
   "id": "7d452b56",
   "metadata": {},
   "outputs": [],
   "source": [
    "female =df[ df['Gender'] == 'F']\n",
    "total_females = female.shape[0]\n",
    "\n",
    "male = df[df['Gender'] == 'M']\n",
    "total_males = male.shape[0]\n",
    "\n",
    "female_who_did_not_attend = (female['No_show'] == 'Yes').sum()\n",
    "female_who_attend = (female['No_show'] =='No').sum()\n",
    "\n",
    "male_who_did_not_attend = (male['No_show'] =='Yes').sum()\n",
    "male_who_attend = (male['No_show'] == 'No').sum()"
   ]
  },
  {
   "cell_type": "markdown",
   "id": "4a6cca6b",
   "metadata": {},
   "source": [
    "The percentage of female who missed the appointment?"
   ]
  },
  {
   "cell_type": "code",
   "execution_count": 52,
   "id": "30fd52db",
   "metadata": {},
   "outputs": [
    {
     "data": {
      "text/plain": [
       "20.31"
      ]
     },
     "execution_count": 52,
     "metadata": {},
     "output_type": "execute_result"
    }
   ],
   "source": [
    "female_pecentage = female_who_did_not_attend/total_females*100\n",
    "round(female_pecentage,2)\n"
   ]
  },
  {
   "cell_type": "markdown",
   "id": "66e4b876",
   "metadata": {},
   "source": [
    "20.31% of female did not attend "
   ]
  },
  {
   "cell_type": "code",
   "execution_count": 54,
   "id": "54cc7e32",
   "metadata": {},
   "outputs": [
    {
     "data": {
      "text/plain": [
       "10.75"
      ]
     },
     "execution_count": 54,
     "metadata": {},
     "output_type": "execute_result"
    }
   ],
   "source": [
    "male_percentage = male_who_did_not_attend/total_females*100\n",
    "round(male_percentage,2)"
   ]
  },
  {
   "cell_type": "code",
   "execution_count": 55,
   "id": "cbf9fbb1",
   "metadata": {},
   "outputs": [
    {
     "data": {
      "text/plain": [
       "(10.75, 'of male did not attend')"
      ]
     },
     "execution_count": 55,
     "metadata": {},
     "output_type": "execute_result"
    }
   ],
   "source": [
    "round(male_percentage,2), 'of male did not attend'"
   ]
  },
  {
   "cell_type": "code",
   "execution_count": 58,
   "id": "a1c81b44",
   "metadata": {},
   "outputs": [
    {
     "data": {
      "text/plain": [
       "<AxesSubplot:xlabel='Gender,No_show'>"
      ]
     },
     "execution_count": 58,
     "metadata": {},
     "output_type": "execute_result"
    },
    {
     "data": {
      "image/png": "[encoded data removed]",
      "text/plain": [
       "<Figure size 432x288 with 1 Axes>"
      ]
     },
     "metadata": {
      "needs_background": "light"
     },
     "output_type": "display_data"
    }
   ],
   "source": [
    "gender = df.groupby('Gender').No_show.value_counts()\n",
    "gender.plot(kind = 'bar', color = 'brown')"
   ]
  },
  {
   "cell_type": "markdown",
   "id": "d40b71f0",
   "metadata": {},
   "source": [
    "Inference:  \n",
    "1) The percentage of female patients who missed there appointment is approximately equal to the number of male patient who missed the appointment  \n",
    "2) The percentage of female patients who attend there appointment is approximately equal to the number of male patient who attend the appointment.  \n",
    "3) Thus, the gender of a person does not play significant role in missing appointment."
   ]
  },
  {
   "cell_type": "markdown",
   "id": "27f93651",
   "metadata": {},
   "source": [
    "**Does the day of appointment influence the patients decision to attend or miss the appointment?**"
   ]
  },
  {
   "cell_type": "code",
   "execution_count": 71,
   "id": "af89f735",
   "metadata": {},
   "outputs": [],
   "source": [
    "day = df.groupby('appointment_day').No_show.value_counts();"
   ]
  },
  {
   "cell_type": "code",
   "execution_count": 72,
   "id": "e7b74fa1",
   "metadata": {},
   "outputs": [
    {
     "data": {
      "text/plain": [
       "appointment_day  No_show\n",
       "Friday           No         15028\n",
       "                 Yes         3887\n",
       "Monday           No         18524\n",
       "                 Yes         4561\n",
       "Saturday         No            23\n",
       "                 Yes            1\n",
       "Thursday         No         14373\n",
       "                 Yes         3700\n",
       "Tuesday          No         20877\n",
       "                 Yes         5291\n",
       "Wednesday        No         19383\n",
       "                 Yes         4879\n",
       "Name: No_show, dtype: int64"
      ]
     },
     "execution_count": 72,
     "metadata": {},
     "output_type": "execute_result"
    }
   ],
   "source": [
    "day"
   ]
  },
  {
   "cell_type": "code",
   "execution_count": 74,
   "id": "47bd7b81",
   "metadata": {},
   "outputs": [
    {
     "data": {
      "text/plain": [
       "[20.54982817869416,\n",
       " 19.7574182369504,\n",
       " 4.166666666666667,\n",
       " 20.472528080562164,\n",
       " 20.21935188015897,\n",
       " 20.109636468551646]"
      ]
     },
     "execution_count": 74,
     "metadata": {},
     "output_type": "execute_result"
    }
   ],
   "source": [
    "percent = []\n",
    "i = 0\n",
    "while i<len(day)-1:\n",
    "    percent.append(day[i+1]*100/(day[i]+day[i+1]))\n",
    "    i=i+2\n",
    "    \n",
    "percent\n"
   ]
  },
  {
   "cell_type": "code",
   "execution_count": 77,
   "id": "6e582c4b",
   "metadata": {},
   "outputs": [
    {
     "data": {
      "image/png": "[encoded data removed]",
      "text/plain": [
       "<Figure size 864x576 with 1 Axes>"
      ]
     },
     "metadata": {
      "needs_background": "light"
     },
     "output_type": "display_data"
    }
   ],
   "source": [
    "day = day.sort_values(ascending = False)\n",
    "day.plot(kind = 'bar', figsize = (12,8), color = 'grey');"
   ]
  },
  {
   "cell_type": "markdown",
   "id": "d13035a6",
   "metadata": {},
   "source": [
    "Inference:\n",
    "1)The number of appointments scheduled, attended and missed, both are negligible  \n",
    "2)The number of appointents , both missed and attended are maximum for Tuesday  \n",
    "3)Wednesday comes right after Tuesday for both having the number of appointments attended as well as missed  \n",
    "4)It is followed by Monday with a lesser number of patients attening as well as missing the appointent  \n",
    "5)The number of patients attending as well as issing the appointment keeps on decreasing for Thursday and Friday  \n",
    "6)Thus, the numbers of patients attending as well as missing the appointnets goes hand in hand     \n",
    "7)For all the other days, around 20% of the scheduled appointents will be cancelled"
   ]
  },
  {
   "cell_type": "markdown",
   "id": "94991bb6",
   "metadata": {},
   "source": [
    "**Does the sending sms influnece the patient's attendence**"
   ]
  },
  {
   "cell_type": "code",
   "execution_count": 81,
   "id": "bd1bee03",
   "metadata": {},
   "outputs": [
    {
     "data": {
      "text/plain": [
       "SMS_received  No_show\n",
       "0             No         62510\n",
       "              Yes        12535\n",
       "1             No         25698\n",
       "              Yes         9784\n",
       "Name: No_show, dtype: int64"
      ]
     },
     "execution_count": 81,
     "metadata": {},
     "output_type": "execute_result"
    }
   ],
   "source": [
    "msg = df.groupby('SMS_received').No_show.value_counts()\n",
    "msg"
   ]
  },
  {
   "cell_type": "code",
   "execution_count": 83,
   "id": "f2579ab9",
   "metadata": {},
   "outputs": [
    {
     "data": {
      "text/plain": [
       "16.703311346525417"
      ]
     },
     "execution_count": 83,
     "metadata": {},
     "output_type": "execute_result"
    }
   ],
   "source": [
    "msg_not_received = msg[0][1]*100/(msg[0][0]+msg[0][1])\n",
    "msg_not_received"
   ]
  },
  {
   "cell_type": "code",
   "execution_count": 87,
   "id": "d13ce6b2",
   "metadata": {},
   "outputs": [
    {
     "data": {
      "image/png": "[encoded data removed]",
      "text/plain": [
       "<Figure size 864x576 with 1 Axes>"
      ]
     },
     "metadata": {
      "needs_background": "light"
     },
     "output_type": "display_data"
    }
   ],
   "source": [
    "msg.plot(kind='bar', figsize = (12,8));"
   ]
  },
  {
   "cell_type": "markdown",
   "id": "5b750440",
   "metadata": {},
   "source": [
    "Inference drawn:  \n",
    "1)16% of patients who did not recieve the msg did not show up for appointment.  \n",
    "2)27% of patinets did not attend the appointment in spite of getting msg  \n",
    "3)patients recieving msg have higher tendency of missing the apointment."
   ]
  },
  {
   "cell_type": "markdown",
   "id": "7852f81d",
   "metadata": {},
   "source": [
    "**If a person have a medical issue then they are more likely to have a no show?**"
   ]
  },
  {
   "cell_type": "code",
   "execution_count": 90,
   "id": "5a44be62",
   "metadata": {},
   "outputs": [
    {
     "data": {
      "text/plain": [
       "(Hypertension  No_show\n",
       " 0             No         70179\n",
       "               Yes        18547\n",
       " 1             No         18029\n",
       "               Yes         3772\n",
       " Name: No_show, dtype: int64,\n",
       " Diabetes  No_show\n",
       " 0         No         81695\n",
       "           Yes        20889\n",
       " 1         No          6513\n",
       "           Yes         1430\n",
       " Name: No_show, dtype: int64,\n",
       " Alcoholism  No_show\n",
       " 0           No         85525\n",
       "             Yes        21642\n",
       " 1           No          2683\n",
       "             Yes          677\n",
       " Name: No_show, dtype: int64)"
      ]
     },
     "execution_count": 90,
     "metadata": {},
     "output_type": "execute_result"
    }
   ],
   "source": [
    "hypertension_data = df.groupby('Hypertension').No_show.value_counts()\n",
    "diabetes_data = df.groupby('Diabetes').No_show.value_counts()\n",
    "alcoholism_data = df.groupby('Alcoholism').No_show.value_counts()\n",
    "hypertension_data, diabetes_data, alcoholism_data\n"
   ]
  },
  {
   "cell_type": "code",
   "execution_count": 91,
   "id": "029f5a0b",
   "metadata": {},
   "outputs": [
    {
     "data": {
      "text/plain": [
       "<AxesSubplot:xlabel='Hypertension,No_show'>"
      ]
     },
     "execution_count": 91,
     "metadata": {},
     "output_type": "execute_result"
    },
    {
     "data": {
      "image/png": "[encoded data removed]",
      "text/plain": [
       "<Figure size 432x288 with 1 Axes>"
      ]
     },
     "metadata": {
      "needs_background": "light"
     },
     "output_type": "display_data"
    }
   ],
   "source": [
    "hypertension_data.plot(kind=\"bar\")"
   ]
  },
  {
   "cell_type": "code",
   "execution_count": 92,
   "id": "74cf5a32",
   "metadata": {},
   "outputs": [
    {
     "data": {
      "text/plain": [
       "<AxesSubplot:xlabel='Alcoholism,No_show'>"
      ]
     },
     "execution_count": 92,
     "metadata": {},
     "output_type": "execute_result"
    },
    {
     "data": {
      "image/png": "[encoded data removed]",
      "text/plain": [
       "<Figure size 432x288 with 1 Axes>"
      ]
     },
     "metadata": {
      "needs_background": "light"
     },
     "output_type": "display_data"
    }
   ],
   "source": [
    "alcoholism_data.plot(kind='bar')"
   ]
  },
  {
   "cell_type": "code",
   "execution_count": 93,
   "id": "4d992c4f",
   "metadata": {},
   "outputs": [
    {
     "data": {
      "text/plain": [
       "<AxesSubplot:xlabel='Diabetes,No_show'>"
      ]
     },
     "execution_count": 93,
     "metadata": {},
     "output_type": "execute_result"
    },
    {
     "data": {
      "image/png": "[encoded data removed]",
      "text/plain": [
       "<Figure size 432x288 with 1 Axes>"
      ]
     },
     "metadata": {
      "needs_background": "light"
     },
     "output_type": "display_data"
    }
   ],
   "source": [
    "diabetes_data.plot(kind=\"bar\")"
   ]
  },
  {
   "cell_type": "markdown",
   "id": "a0889a02",
   "metadata": {},
   "source": [
    "## Conclusion:"
   ]
  },
  {
   "cell_type": "markdown",
   "id": "ba88dbb7",
   "metadata": {},
   "source": [
    "1)In this project, we analyzed the no show database of patients  \n",
    "2)We analyzed all the variables of the dataset  \n",
    "3)Gender of a patient does not have influence on whether the patient shows up or no  \n",
    "4)Whether the patient shows up or not is affected by the amount of time between the patient scheduled his appointment and his appointment  \n",
    "5)Patient is more likely to show up if the time between the patient scheduled his appointment and his appointment is less  \n",
    "6)The weekday on which the appointment has been scheduled does not affect the patient's behaviour except for on Saturday 7)when percentage of patients not showing is the least  \n",
    "8)Percentage of patients who received a text message are more likely to not show up as compared to patients who have not received a text message by a small amount  \n",
    "9)Age of a person does not affect if the patients attends or misses his appointment  \n",
    "10)Percentage of patient having a pre-existing medical condition like Hypertension, Diabetes, Alcoholis are as likely to miss their appointment as conpares to percentage of patients without a medical condition issing their appointments  \n",
    "11)In some neighbourhoods, patients are more likely to miss their appointmnets as compared to other neighbourhoods  "
   ]
  },
  {
   "cell_type": "code",
   "execution_count": null,
   "id": "1863ad96",
   "metadata": {},
   "outputs": [],
   "source": []
  },
  {
   "cell_type": "code",
   "execution_count": null,
   "id": "86f535c9",
   "metadata": {},
   "outputs": [],
   "source": []
  },
  {
   "cell_type": "code",
   "execution_count": null,
   "id": "ad069c6c",
   "metadata": {},
   "outputs": [],
   "source": []
  },
  {
   "cell_type": "code",
   "execution_count": null,
   "id": "3b7b63e9",
   "metadata": {},
   "outputs": [],
   "source": []
  },
  {
   "cell_type": "code",
   "execution_count": null,
   "id": "e31418a2",
   "metadata": {},
   "outputs": [],
   "source": []
  }
 ],
 "metadata": {
  "kernelspec": {
   "display_name": "Python 3",
   "language": "python",
   "name": "python3"
  },
  "language_info": {
   "codemirror_mode": {
    "name": "ipython",
    "version": 3
   },
   "file_extension": ".py",
   "mimetype": "text/x-python",
   "name": "python",
   "nbconvert_exporter": "python",
   "pygments_lexer": "ipython3",
   "version": "3.8.8"
  }
 },
 "nbformat": 4,
 "nbformat_minor": 5
}
